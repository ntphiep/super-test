{
 "cells": [
  {
   "cell_type": "code",
   "execution_count": 1,
   "metadata": {},
   "outputs": [],
   "source": [
    "from pyspark.sql import SparkSession\n",
    "import sqlalchemy\n",
    "import pandas as pd"
   ]
  },
  {
   "cell_type": "code",
   "execution_count": 9,
   "metadata": {},
   "outputs": [],
   "source": [
    "spark = SparkSession \\\n",
    "    .builder \\\n",
    "    .appName(\"Test app\") \\\n",
    "    .master(\"spark://localhost:7077\") \\\n",
    "    .getOrCreate()\n"
   ]
  },
  {
   "cell_type": "code",
   "execution_count": 10,
   "metadata": {},
   "outputs": [
    {
     "name": "stderr",
     "output_type": "stream",
     "text": [
      "                                                                                \r"
     ]
    }
   ],
   "source": [
    "df = spark.read \\\n",
    "    .format(\"csv\") \\\n",
    "    .option(\"header\", \"true\") \\\n",
    "    .option(\"inferSchema\", \"true\") \\\n",
    "    .option(\"samplingRatio\", .01) \\\n",
    "    .load(\"../data.csv\")\n",
    "    \n",
    "    \n",
    "    "
   ]
  },
  {
   "cell_type": "code",
   "execution_count": 11,
   "metadata": {},
   "outputs": [
    {
     "name": "stdout",
     "output_type": "stream",
     "text": [
      "root\n",
      " |-- Date: date (nullable = true)\n",
      " |-- GameID: integer (nullable = true)\n",
      " |-- Drive: integer (nullable = true)\n",
      " |-- qtr: integer (nullable = true)\n",
      " |-- down: string (nullable = true)\n",
      " |-- time: timestamp (nullable = true)\n",
      " |-- TimeUnder: integer (nullable = true)\n",
      " |-- TimeSecs: string (nullable = true)\n",
      " |-- PlayTimeDiff: string (nullable = true)\n",
      " |-- SideofField: string (nullable = true)\n",
      " |-- yrdln: string (nullable = true)\n",
      " |-- yrdline100: string (nullable = true)\n",
      " |-- ydstogo: integer (nullable = true)\n",
      " |-- ydsnet: integer (nullable = true)\n",
      " |-- GoalToGo: string (nullable = true)\n",
      " |-- FirstDown: string (nullable = true)\n",
      " |-- posteam: string (nullable = true)\n",
      " |-- DefensiveTeam: string (nullable = true)\n",
      " |-- desc: string (nullable = true)\n",
      " |-- PlayAttempted: integer (nullable = true)\n",
      " |-- Yards.Gained: integer (nullable = true)\n",
      " |-- sp: integer (nullable = true)\n",
      " |-- Touchdown: integer (nullable = true)\n",
      " |-- ExPointResult: string (nullable = true)\n",
      " |-- TwoPointConv: string (nullable = true)\n",
      " |-- DefTwoPoint: string (nullable = true)\n",
      " |-- Safety: integer (nullable = true)\n",
      " |-- Onsidekick: integer (nullable = true)\n",
      " |-- PuntResult: string (nullable = true)\n",
      " |-- PlayType: string (nullable = true)\n",
      " |-- Passer: string (nullable = true)\n",
      " |-- Passer_ID: string (nullable = true)\n",
      " |-- PassAttempt: integer (nullable = true)\n",
      " |-- PassOutcome: string (nullable = true)\n",
      " |-- PassLength: string (nullable = true)\n",
      " |-- AirYards: integer (nullable = true)\n",
      " |-- YardsAfterCatch: integer (nullable = true)\n",
      " |-- QBHit: integer (nullable = true)\n",
      " |-- PassLocation: string (nullable = true)\n",
      " |-- InterceptionThrown: integer (nullable = true)\n",
      " |-- Interceptor: string (nullable = true)\n",
      " |-- Rusher: string (nullable = true)\n",
      " |-- Rusher_ID: string (nullable = true)\n",
      " |-- RushAttempt: integer (nullable = true)\n",
      " |-- RunLocation: string (nullable = true)\n",
      " |-- RunGap: string (nullable = true)\n",
      " |-- Receiver: string (nullable = true)\n",
      " |-- Receiver_ID: string (nullable = true)\n",
      " |-- Reception: integer (nullable = true)\n",
      " |-- ReturnResult: string (nullable = true)\n",
      " |-- Returner: string (nullable = true)\n",
      " |-- BlockingPlayer: string (nullable = true)\n",
      " |-- Tackler1: string (nullable = true)\n",
      " |-- Tackler2: string (nullable = true)\n",
      " |-- FieldGoalResult: string (nullable = true)\n",
      " |-- FieldGoalDistance: string (nullable = true)\n",
      " |-- Fumble: integer (nullable = true)\n",
      " |-- RecFumbTeam: string (nullable = true)\n",
      " |-- RecFumbPlayer: string (nullable = true)\n",
      " |-- Sack: integer (nullable = true)\n",
      " |-- Challenge.Replay: integer (nullable = true)\n",
      " |-- ChalReplayResult: string (nullable = true)\n",
      " |-- Accepted.Penalty: integer (nullable = true)\n",
      " |-- PenalizedTeam: string (nullable = true)\n",
      " |-- PenaltyType: string (nullable = true)\n",
      " |-- PenalizedPlayer: string (nullable = true)\n",
      " |-- Penalty.Yards: integer (nullable = true)\n",
      " |-- PosTeamScore: string (nullable = true)\n",
      " |-- DefTeamScore: string (nullable = true)\n",
      " |-- ScoreDiff: string (nullable = true)\n",
      " |-- AbsScoreDiff: string (nullable = true)\n",
      " |-- HomeTeam: string (nullable = true)\n",
      " |-- AwayTeam: string (nullable = true)\n",
      " |-- Timeout_Indicator: integer (nullable = true)\n",
      " |-- Timeout_Team: string (nullable = true)\n",
      " |-- posteam_timeouts_pre: integer (nullable = true)\n",
      " |-- HomeTimeouts_Remaining_Pre: integer (nullable = true)\n",
      " |-- AwayTimeouts_Remaining_Pre: integer (nullable = true)\n",
      " |-- HomeTimeouts_Remaining_Post: integer (nullable = true)\n",
      " |-- AwayTimeouts_Remaining_Post: integer (nullable = true)\n",
      " |-- No_Score_Prob: double (nullable = true)\n",
      " |-- Opp_Field_Goal_Prob: double (nullable = true)\n",
      " |-- Opp_Safety_Prob: double (nullable = true)\n",
      " |-- Opp_Touchdown_Prob: double (nullable = true)\n",
      " |-- Field_Goal_Prob: double (nullable = true)\n",
      " |-- Safety_Prob: double (nullable = true)\n",
      " |-- Touchdown_Prob: double (nullable = true)\n",
      " |-- ExPoint_Prob: double (nullable = true)\n",
      " |-- TwoPoint_Prob: double (nullable = true)\n",
      " |-- ExpPts: double (nullable = true)\n",
      " |-- EPA: string (nullable = true)\n",
      " |-- airEPA: string (nullable = true)\n",
      " |-- yacEPA: string (nullable = true)\n",
      " |-- Home_WP_pre: string (nullable = true)\n",
      " |-- Away_WP_pre: string (nullable = true)\n",
      " |-- Home_WP_post: string (nullable = true)\n",
      " |-- Away_WP_post: string (nullable = true)\n",
      " |-- Win_Prob: string (nullable = true)\n",
      " |-- WPA: string (nullable = true)\n",
      " |-- airWPA: string (nullable = true)\n",
      " |-- yacWPA: string (nullable = true)\n",
      " |-- Season: integer (nullable = true)\n",
      "\n"
     ]
    }
   ],
   "source": [
    "df.printSchema()"
   ]
  }
 ],
 "metadata": {
  "kernelspec": {
   "display_name": "Python 3",
   "language": "python",
   "name": "python3"
  },
  "language_info": {
   "codemirror_mode": {
    "name": "ipython",
    "version": 3
   },
   "file_extension": ".py",
   "mimetype": "text/x-python",
   "name": "python",
   "nbconvert_exporter": "python",
   "pygments_lexer": "ipython3",
   "version": "3.12.3"
  }
 },
 "nbformat": 4,
 "nbformat_minor": 2
}
